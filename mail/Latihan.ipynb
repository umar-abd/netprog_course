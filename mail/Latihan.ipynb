{
 "cells": [
  {
   "cell_type": "code",
   "execution_count": null,
   "metadata": {},
   "outputs": [],
   "source": [
    "# Import library yang diperlukan\n",
    "import getpass\n",
    "import poplib\n",
    "import imaplib"
   ]
  },
  {
   "cell_type": "code",
   "execution_count": null,
   "metadata": {},
   "outputs": [],
   "source": [
    "def imap_mail(username):\n",
    "    # Tulis kode program dari sini\n",
    "\n",
    "    try:\n",
    "        mb = imaplib.IMAP4_SSL(username[2], username[3]) \n",
    "        password = getpass.getpass(prompt=\"Enter your Email password: \") \n",
    "        mb.login(username[0], password)\n",
    "        mb.select('Inbox')\n",
    "        typ, data = mb.search(None, 'ALL')\n",
    "        for num in data[0].split():\n",
    "            typ, data = mb.fetch(num, '(RFC822)')\n",
    "            print ('Message %s\\n%s\\n' % (num, data[0][1]))\n",
    "            break\n",
    "        mb.close()\n",
    "        mb.logout()\n",
    "    except:\n",
    "        print (\"Argumen Invalid\")\n",
    "        \n",
    "    # Sampai di sini\n",
    "    \n",
    "def pop_mail(username):\n",
    "    # Tulis kode program dari sini \n",
    "    \n",
    "    try:\n",
    "        mb = poplib.POP3_SSL(username[2], username[3]) \n",
    "        mb.user(username[0])\n",
    "        password = getpass.getpass(prompt=\"Enter your Email password: \") \n",
    "        mb.pass_(password) \n",
    "        num_messages = len(mb.list()[1])\n",
    "        print (\"Total emails: %s\" %num_messages)\n",
    "        print (\"Getting last message\")\n",
    "        for msg in mb.retr(num_messages)[1]:\n",
    "            print (msg)\n",
    "        mb.quit()\n",
    "    except:\n",
    "        print (\"Argumen Invalid\")\n",
    "        \n",
    "    # Sampai di sini"
   ]
  },
  {
   "cell_type": "markdown",
   "metadata": {},
   "source": [
    "Buatlah sebuah fungsi yang dapat menggabungkan fungsionalitas fungsi `imap_mail()` dan `pop_mail()`"
   ]
  },
  {
   "cell_type": "code",
   "execution_count": null,
   "metadata": {},
   "outputs": [],
   "source": [
    "def mail(username, protocol, host, port):\n",
    "    # Tulis kode program dari sini \n",
    "    listall = [username, protocol, host, port]\n",
    "    try:\n",
    "        if protocol.lower() == 'pop':            \n",
    "            pop_mail(listall)\n",
    "        elif protocol.lower() == 'imap':\n",
    "            imap_mail(listall)\n",
    "        else:\n",
    "            print(\"Protocol Invalid\")\n",
    "    except:\n",
    "        print (\"Argumen Invalid\")\n",
    "        \n",
    "    # Sampai di sini"
   ]
  },
  {
   "cell_type": "markdown",
   "metadata": {},
   "source": [
    "Panggil fungsi `mail()` di bawah ini:"
   ]
  },
  {
   "cell_type": "code",
   "execution_count": null,
   "metadata": {},
   "outputs": [],
   "source": [
    "def main():\n",
    "    \"\"\"\n",
    "    Nama : R. Umar Abdillah\n",
    "    NIM  : 170010016\n",
    "    Kelas: CA171\n",
    "    \"\"\"\n",
    "    print(\"\\33[32m \\t\\t\\t\\tEmail Server \\33[0m\")\n",
    "    username = input(\"Email Address : \")\n",
    "    protocol = input(\"Protocol POP/IMAP : \")\n",
    "    host = input(\"Host Mail Server : \")\n",
    "    port = input(\"Port Mail Server : \")\n",
    "    mail(username, protocol, host, port)\n",
    "    \n",
    "if __name__ == \"__main__\":    \n",
    "    main()"
   ]
  }
 ],
 "metadata": {
  "kernelspec": {
   "display_name": "Python 3",
   "language": "python",
   "name": "python3"
  },
  "language_info": {
   "codemirror_mode": {
    "name": "ipython",
    "version": 3
   },
   "file_extension": ".py",
   "mimetype": "text/x-python",
   "name": "python",
   "nbconvert_exporter": "python",
   "pygments_lexer": "ipython3",
   "version": "3.8.1"
  }
 },
 "nbformat": 4,
 "nbformat_minor": 4
}
